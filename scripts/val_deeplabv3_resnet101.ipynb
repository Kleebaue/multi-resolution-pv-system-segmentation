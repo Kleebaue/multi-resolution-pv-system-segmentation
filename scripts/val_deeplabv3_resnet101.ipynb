{
 "cells": [
  {
   "cell_type": "code",
   "execution_count": null,
   "id": "2674e496-5c91-4dd1-9152-c5a9c65224fd",
   "metadata": {},
   "outputs": [],
   "source": [
    "# the script was used to validate the networks within the publication "
   ]
  },
  {
   "cell_type": "code",
   "execution_count": null,
   "id": "2b30b230-d131-48fb-9866-03a7baf483c8",
   "metadata": {},
   "outputs": [],
   "source": [
    "import os\n",
    "from PIL import Image\n",
    "import numpy as np\n",
    "\n",
    "import matplotlib.pyplot as plt\n",
    "\n",
    "import torch\n",
    "from torch.utils.data import Dataset, DataLoader\n",
    "\n",
    "from torchvision.utils import make_grid\n",
    "from torchvision import transforms\n",
    "from torchvision.transforms import functional as F, ToTensor, InterpolationMode\n",
    "import torchvision.models as models\n",
    "from torchvision.models.segmentation import deeplabv3_resnet101\n",
    "\n",
    "import torch.nn as nn\n",
    "import torch.optim as optim\n",
    "\n",
    "class SegmentationDataset(Dataset):\n",
    "    def __init__(self, root_dirs, resize=256, crop_size=256):\n",
    "        self.root_dirs = root_dirs\n",
    "        self.image_dirs = [os.path.join(root_dir, 'image') for root_dir in root_dirs]\n",
    "        self.mask_dirs = [os.path.join(root_dir, 'mask') for root_dir in root_dirs]\n",
    "        self.image_filenames = self.collect_image_filenames()\n",
    "        self.transforms = transforms.Compose([\n",
    "            transforms.CenterCrop(crop_size),\n",
    "            transforms.Resize([resize], interpolation=InterpolationMode.BILINEAR),\n",
    "            transforms.ToTensor()\n",
    "        ])\n",
    "\n",
    "    def collect_image_filenames(self):\n",
    "        image_filenames = []\n",
    "        for image_dir in self.image_dirs:\n",
    "            image_filenames += os.listdir(image_dir)\n",
    "        return image_filenames\n",
    "\n",
    "    def __len__(self):\n",
    "        return len(self.image_filenames)\n",
    "\n",
    "    def __getitem__(self, idx):\n",
    "        image_name = self.image_filenames[idx]\n",
    "        image_path = self.find_image_path(image_name)\n",
    "        mask_path = self.find_mask_path(image_name)\n",
    "\n",
    "        image = self.load_image(image_path)\n",
    "        mask = self.load_mask(mask_path)\n",
    "\n",
    "        return image, mask\n",
    "\n",
    "    def find_image_path(self, image_name):\n",
    "        for image_dir in self.image_dirs:\n",
    "            image_path = os.path.join(image_dir, image_name)\n",
    "            if os.path.exists(image_path):\n",
    "                return image_path\n",
    "        raise FileNotFoundError(f\"Image file not found: {image_name}\")\n",
    "\n",
    "    def find_mask_path(self, image_name):\n",
    "        for mask_dir in self.mask_dirs:\n",
    "            mask_path = os.path.join(mask_dir, image_name)\n",
    "            if os.path.exists(mask_path):\n",
    "                return mask_path\n",
    "        raise FileNotFoundError(f\"Mask file not found: {image_name}\")\n",
    "\n",
    "    def load_image(self, path):\n",
    "        image = Image.open(path).convert('RGB')\n",
    "        image = self.transforms(image)\n",
    "        return image\n",
    "\n",
    "    def load_mask(self, path):\n",
    "        mask = Image.open(path).convert('L')\n",
    "        mask = self.transforms(mask)\n",
    "        mask = torch.squeeze(mask, dim=0)  # Squeeze the mask\n",
    "        return mask\n"
   ]
  },
  {
   "cell_type": "code",
   "execution_count": 2,
   "id": "eb819529-6c94-411d-a9ad-b7a2656313ef",
   "metadata": {},
   "outputs": [
    {
     "name": "stdout",
     "output_type": "stream",
     "text": [
      "Info: Devices: 4 A100-SXM4-40GB GPU available, will use gpu!\n",
      "Number of CPU cores: 128\n"
     ]
    }
   ],
   "source": [
    "use_cuda = True\n",
    "\n",
    "if use_cuda and not torch.cuda.is_available():\n",
    "    print(\"Error: cuda requested but not available, will use cpu instead!\")\n",
    "    device = torch.device('cpu')\n",
    "elif not use_cuda:\n",
    "    print(\"Info: will use cpu!\")\n",
    "    device = torch.device('cpu')\n",
    "else:\n",
    "    print(f\"Info: Devices: {torch.cuda.device_count()} {torch.cuda.get_device_name(0)} GPU available, will use gpu!\")\n",
    "    device = torch.device('cuda')\n",
    "    \n",
    "print(f\"Number of CPU cores: {os.cpu_count()}\")"
   ]
  },
  {
   "cell_type": "code",
   "execution_count": 3,
   "id": "a97c37f1-49aa-4156-b1c1-befc79f54194",
   "metadata": {},
   "outputs": [],
   "source": [
    "## fixed parameters\n",
    "batch_size = 8\n",
    "learning_rate = 0.00001\n",
    "epochs = 100\n",
    "\n",
    "dataset_path = '/share/data1/pv_segmentation/'"
   ]
  },
  {
   "cell_type": "code",
   "execution_count": 4,
   "id": "ecb0e6cb-a5e1-430d-8ff3-87ee3f5bf1d8",
   "metadata": {},
   "outputs": [],
   "source": [
    "def plot_images_masks_predictions(images, masks, predicted_masks):\n",
    "    batch_size = images.shape[0]\n",
    "    fig, axs = plt.subplots(batch_size, 3, figsize=(15, 5*batch_size))\n",
    "\n",
    "    for i in range(batch_size):\n",
    "        # Plot the image\n",
    "        axs[i, 0].imshow(images[i].transpose(1, 2, 0))\n",
    "        axs[i, 0].set_title('Image {}'.format(i+1))\n",
    "        axs[i, 0].axis('off')\n",
    "\n",
    "        # Plot the ground truth mask\n",
    "        axs[i, 1].imshow(masks[i], cmap='gray')\n",
    "        axs[i, 1].set_title('Ground Truth Mask {}'.format(i+1))\n",
    "        axs[i, 1].axis('off')\n",
    "   \n",
    "        predicted_mask = predicted_masks[i]\n",
    "        if predicted_mask.ndim == 2:\n",
    "            axs[i, 2].imshow(predicted_mask, cmap='gray')\n",
    "        elif predicted_mask.ndim == 3:\n",
    "            axs[i, 2].imshow(predicted_mask.transpose(1, 2, 0))\n",
    "        else:\n",
    "            raise ValueError('Invalid shape of predicted mask')\n",
    "        axs[i, 2].set_title('Predicted Mask {}'.format(i+1))\n",
    "        axs[i, 2].axis('off')\n",
    "\n",
    "    plt.tight_layout()\n",
    "    plt.show()\n",
    "    \n",
    "def test_segmentation_network(model, dataloader):\n",
    "    # Get a batch of images and masks\n",
    "    images, masks = next(iter(dataloader))\n",
    "\n",
    "    # Move images and masks to the device\n",
    "    device = next(model.parameters()).device\n",
    "    images = images.to(device)\n",
    "    masks = masks.to(device)\n",
    "\n",
    "    # Run the model to get the predictions\n",
    "    model.eval()\n",
    "    with torch.no_grad():\n",
    "        outputs = model(images)['out']\n",
    "        predictions = torch.sigmoid(outputs).cpu().numpy()\n",
    "\n",
    "    # Convert tensors to numpy arrays\n",
    "    images = images.cpu().numpy()\n",
    "    masks = masks.cpu().numpy()\n",
    "\n",
    "    plot_images_masks_predictions(images, masks, predicted_masks)\n",
    "\n",
    "    \n",
    "def plot_batch(dataloader,batch_size):\n",
    "    # Get a batch of images and masks\n",
    "    images, masks = next(iter(dataloader))\n",
    "\n",
    "    # Convert tensors to numpy arrays\n",
    "    images = images.numpy()\n",
    "    masks = masks.numpy()\n",
    "\n",
    "    # Plot the images and masks\n",
    "    fig, axs = plt.subplots(batch_size, 2, figsize=(10, 5*batch_size))\n",
    "\n",
    "    for i in range(batch_size):\n",
    "        # Plot the image\n",
    "        axs[i, 0].imshow(images[i].transpose(1, 2, 0))\n",
    "        axs[i, 0].set_title('Image {}'.format(i+1))\n",
    "        axs[i, 0].axis('off')\n",
    "\n",
    "        # Plot the mask\n",
    "        axs[i, 1].imshow(masks[i], cmap='gray')\n",
    "        axs[i, 1].set_title('Mask {}'.format(i+1))\n",
    "        axs[i, 1].axis('off')\n",
    "\n",
    "    plt.tight_layout()\n",
    "    plt.show()   \n",
    "    \n",
    "# import metrics\n",
    "from torchmetrics.classification import BinaryAccuracy, BinaryRecall, BinaryPrecision, BinaryF1Score, BinaryJaccardIndex\n",
    "calculate_accuracy = BinaryAccuracy()\n",
    "calculate_precision = BinaryPrecision()\n",
    "calculate_recall = BinaryRecall()\n",
    "calculate_f1_score = BinaryF1Score()\n",
    "calculate__iou = BinaryJaccardIndex()"
   ]
  },
  {
   "cell_type": "code",
   "execution_count": 5,
   "id": "035ed44d-3ee7-4452-ac3e-b38d5fca3f4a",
   "metadata": {},
   "outputs": [],
   "source": [
    "def eval(model,eval_dataloader, dataset_path_eval):\n",
    "    model.eval()\n",
    "    with torch.no_grad():\n",
    "        images, masks = next(iter(eval_dataloader))\n",
    "\n",
    "        # Move images and masks to the device\n",
    "        images = images.to(device)\n",
    "        masks = masks.to(device)\n",
    "\n",
    "        # Forward pass\n",
    "        outputs = model(images)['out']\n",
    "        predicted_masks = torch.sigmoid(outputs) > 0.5\n",
    "\n",
    "        # Convert tensors to numpy arrays\n",
    "        images = images.cpu()\n",
    "        masks = masks.cpu()\n",
    "        predicted_masks = predicted_masks.cpu()\n",
    "\n",
    "        threshold = 0.5\n",
    "        mask = (masks >= threshold).int()\n",
    "        predicted_mask = (predicted_masks >= threshold).int()\n",
    "\n",
    "        # Calculate evaluation metrics\n",
    "        accuracy = calculate_accuracy(predicted_mask.squeeze(), mask)\n",
    "        precision = calculate_precision(predicted_mask.squeeze(), mask)\n",
    "        recall = calculate_recall(predicted_mask.squeeze(), mask)\n",
    "        f1_score = calculate_f1_score(predicted_mask.squeeze(), mask)\n",
    "        iou = calculate__iou(predicted_mask.squeeze(), mask)\n",
    "\n",
    "        # Print evaluation metrics\n",
    "#        print('Accuracy: {:.4f}'.format(accuracy))\n",
    "#        print('Precision: {:.4f}'.format(precision))\n",
    "#        print('Recall: {:.4f}'.format(recall))\n",
    "        print('{:.4f}'.format(f1_score))\n",
    "#        print('{:.4f}'.format(iou))\n",
    "#        print('used dataset s for validation', dataset_path_eval)\n",
    "        \n",
    "        # Write validation metrics to TensorBoard\n",
    "      #  writer.add_scalar('Accuracy', accuracy, epoch)\n",
    "       # writer.add_scalar('Precision', precision, epoch)\n",
    "      #  writer.add_scalar('Recall', recall, epoch)\n",
    "      #  writer.add_scalar('F1 Score', f1_score, epoch)\n",
    "      #  writer.add_scalar('IoU', iou, epoch)\n",
    "\n",
    "        # Plot the images, masks, and predicted masks\n",
    "       # plot_images_masks_predictions(images.numpy(), masks.numpy(), predicted_masks.numpy())\n",
    "\n",
    "        # Save the trained model\n",
    "     #   torch.save(model, save_path + \"/model_\" + str(epoch) + \".pt\")\n",
    "     #   print('Model saved to:', save_path)"
   ]
  },
  {
   "cell_type": "code",
   "execution_count": 6,
   "id": "f601c0f9-c47f-45f9-a497-bc15b50e15c8",
   "metadata": {},
   "outputs": [],
   "source": [
    "## diff vals\n",
    "val_path1 = '/share/data1/pv_segmentation/PV01_val'\n",
    "val_path2 = '/share/data1/pv_segmentation/PV02_val'\n",
    "val_path3 = '/share/data1/pv_segmentation/PV03_val'\n",
    "val_path4 = '/share/data1/pv_segmentation/PV08_val'\n",
    "val_path5 = '/share/data1/pv_segmentation/PV16_val'\n",
    "val_path6 = '/share/data1/pv_segmentation/PV32_val'\n",
    "\n",
    "test_path1 = '/share/data1/pv_segmentation/PV01_test'\n",
    "test_path2 = '/share/data1/pv_segmentation/PV02_test'\n",
    "test_path3 = '/share/data1/pv_segmentation/PV03_test'\n",
    "test_path4 = '/share/data1/pv_segmentation/PV08_test'\n",
    "test_path5 = '/share/data1/pv_segmentation/PV16_test'\n",
    "test_path6 = '/share/data1/pv_segmentation/PV32_test'\n",
    "\n",
    "def run_validation(model, test_path1, test_path2, test_path3, test_path4, test_path5, test_path6):\n",
    "    dataset_path_eval = [test_path1]\n",
    "    dataset_eval = SegmentationDataset(dataset_path_eval)\n",
    "    dataloader_eval = torch.utils.data.DataLoader(dataset_eval, batch_size=100, shuffle=False)\n",
    "    eval(model,dataloader_eval,dataset_path_eval)\n",
    "\n",
    "    dataset_path_eval = [test_path2]\n",
    "    dataset_eval = SegmentationDataset(dataset_path_eval)\n",
    "    dataloader_eval = torch.utils.data.DataLoader(dataset_eval, batch_size=100, shuffle=False)\n",
    "    eval(model,dataloader_eval,dataset_path_eval)\n",
    "\n",
    "    dataset_path_eval = [test_path3]\n",
    "    dataset_eval = SegmentationDataset(dataset_path_eval)\n",
    "    dataloader_eval = torch.utils.data.DataLoader(dataset_eval, batch_size=100, shuffle=False)\n",
    "    eval(model,dataloader_eval,dataset_path_eval)\n",
    "\n",
    "    dataset_path_eval = [test_path4]\n",
    "    dataset_eval = SegmentationDataset(dataset_path_eval)\n",
    "    dataloader_eval = torch.utils.data.DataLoader(dataset_eval, batch_size=100, shuffle=False)\n",
    "    eval(model,dataloader_eval,dataset_path_eval)\n",
    "\n",
    "    dataset_path_eval = [test_path5]\n",
    "    dataset_eval = SegmentationDataset(dataset_path_eval)\n",
    "    dataloader_eval = torch.utils.data.DataLoader(dataset_eval, batch_size=100, shuffle=False)\n",
    "    eval(model,dataloader_eval,dataset_path_eval)\n",
    "    \n",
    "    dataset_path_eval = [test_path6]\n",
    "    dataset_eval = SegmentationDataset(dataset_path_eval)\n",
    "    dataloader_eval = torch.utils.data.DataLoader(dataset_eval, batch_size=100, shuffle=False)\n",
    "    eval(model,dataloader_eval,dataset_path_eval)"
   ]
  },
  {
   "cell_type": "code",
   "execution_count": 7,
   "id": "1d06d35b-bacc-45d9-81ca-0522c127ec1b",
   "metadata": {},
   "outputs": [
    {
     "name": "stdout",
     "output_type": "stream",
     "text": [
      "0.9599\n",
      "0.7612\n",
      "0.6892\n",
      "0.4679\n",
      "0.1681\n",
      "0.4006\n"
     ]
    }
   ],
   "source": [
    "# 1\n",
    "# Load the model\n",
    "model = torch.load('/share/data1/mkleebauer/pv_segmentation/model_PV01.pt')\n",
    "\n",
    "# Set the model to the device (CPU or GPU)\n",
    "device = torch.device(\"cuda\" if torch.cuda.is_available() else \"cpu\")\n",
    "model = model.to(device)\n",
    "\n",
    "# Run\n",
    "run_validation(model, test_path1, test_path2, test_path3, test_path4, test_path5, test_path6)"
   ]
  },
  {
   "cell_type": "code",
   "execution_count": 8,
   "id": "18f72bd7-511f-48a7-be97-29a98c9ee3f5",
   "metadata": {},
   "outputs": [
    {
     "name": "stdout",
     "output_type": "stream",
     "text": [
      "0.8595\n",
      "0.9540\n",
      "0.3014\n",
      "0.2341\n",
      "0.0887\n",
      "0.1327\n"
     ]
    }
   ],
   "source": [
    "# 2\n",
    "# Load the model\n",
    "model = torch.load('/share/data1/mkleebauer/pv_segmentation/model_PV02.pt')\n",
    "\n",
    "# Set the model to the device (CPU or GPU)\n",
    "device = torch.device(\"cuda\" if torch.cuda.is_available() else \"cpu\")\n",
    "model = model.to(device)\n",
    "\n",
    "run_validation(model, test_path1, test_path2, test_path3, test_path4, test_path5, test_path6)"
   ]
  },
  {
   "cell_type": "code",
   "execution_count": 9,
   "id": "18144bbc-f333-4353-8bf7-90c471be7405",
   "metadata": {},
   "outputs": [
    {
     "name": "stdout",
     "output_type": "stream",
     "text": [
      "0.5703\n",
      "0.0645\n",
      "0.9753\n",
      "0.7970\n",
      "0.6864\n",
      "0.4721\n"
     ]
    }
   ],
   "source": [
    "# 3\n",
    "# Load the model\n",
    "model = torch.load('/share/data1/mkleebauer/pv_segmentation/model_PV03.pt')\n",
    "\n",
    "# Set the model to the device (CPU or GPU)\n",
    "device = torch.device(\"cuda\" if torch.cuda.is_available() else \"cpu\")\n",
    "model = model.to(device)\n",
    "\n",
    "#Run\n",
    "run_validation(model, test_path1, test_path2, test_path3, test_path4, test_path5, test_path6)"
   ]
  },
  {
   "cell_type": "code",
   "execution_count": 10,
   "id": "f9bff571-32da-433e-9213-960316eb3eba",
   "metadata": {},
   "outputs": [
    {
     "name": "stdout",
     "output_type": "stream",
     "text": [
      "0.6596\n",
      "0.7818\n",
      "0.7746\n",
      "0.9553\n",
      "0.9118\n",
      "0.6945\n"
     ]
    }
   ],
   "source": [
    "# 4\n",
    "# Load the model\n",
    "model = torch.load('/share/data1/mkleebauer/pv_segmentation/model_PV08.pt')\n",
    "\n",
    "# Set the model to the device (CPU or GPU)\n",
    "device = torch.device(\"cuda\" if torch.cuda.is_available() else \"cpu\")\n",
    "model = model.to(device)\n",
    "\n",
    "#Run\n",
    "run_validation(model, test_path1, test_path2, test_path3, test_path4, test_path5, test_path6)"
   ]
  },
  {
   "cell_type": "code",
   "execution_count": 11,
   "id": "c2a31023-6e3a-4cde-a139-45ccbd6f7142",
   "metadata": {},
   "outputs": [
    {
     "name": "stdout",
     "output_type": "stream",
     "text": [
      "0.3154\n",
      "0.1412\n",
      "0.5626\n",
      "0.8547\n",
      "0.9500\n",
      "0.8571\n"
     ]
    }
   ],
   "source": [
    "# 4\n",
    "# Load the model\n",
    "model = torch.load('/share/data1/mkleebauer/pv_segmentation/model_PV16.pt')\n",
    "\n",
    "# Set the model to the device (CPU or GPU)\n",
    "device = torch.device(\"cuda\" if torch.cuda.is_available() else \"cpu\")\n",
    "model = model.to(device)\n",
    "\n",
    "#Run\n",
    "run_validation(model, test_path1, test_path2, test_path3, test_path4, test_path5, test_path6)"
   ]
  },
  {
   "cell_type": "code",
   "execution_count": 12,
   "id": "ba2178e2-6b63-454b-aeb1-b1d84d22bd26",
   "metadata": {},
   "outputs": [
    {
     "name": "stdout",
     "output_type": "stream",
     "text": [
      "0.1734\n",
      "0.0276\n",
      "0.4032\n",
      "0.4882\n",
      "0.7760\n",
      "0.8659\n"
     ]
    }
   ],
   "source": [
    "# 4\n",
    "# Load the model\n",
    "model = torch.load('/share/data1/mkleebauer/pv_segmentation/model_PV32.pt')\n",
    "\n",
    "# Set the model to the device (CPU or GPU)\n",
    "device = torch.device(\"cuda\" if torch.cuda.is_available() else \"cpu\")\n",
    "model = model.to(device)\n",
    "\n",
    "#Run\n",
    "run_validation(model, test_path1, test_path2, test_path3, test_path4, test_path5, test_path6)"
   ]
  },
  {
   "cell_type": "code",
   "execution_count": 13,
   "id": "8261a423-516d-43c8-81d8-0fd337608da8",
   "metadata": {},
   "outputs": [
    {
     "name": "stdout",
     "output_type": "stream",
     "text": [
      "0.9574\n",
      "0.9550\n",
      "0.6233\n",
      "0.5298\n",
      "0.2594\n",
      "0.4041\n"
     ]
    }
   ],
   "source": [
    "# 5\n",
    "# Load the model\n",
    "model = torch.load('/share/data1/mkleebauer/pv_segmentation/model_PV01_PV02.pt')\n",
    "\n",
    "# Set the model to the device (CPU or GPU)\n",
    "device = torch.device(\"cuda\" if torch.cuda.is_available() else \"cpu\")\n",
    "model = model.to(device)\n",
    "\n",
    "#Run\n",
    "run_validation(model, test_path1, test_path2, test_path3, test_path4, test_path5, test_path6)"
   ]
  },
  {
   "cell_type": "code",
   "execution_count": 14,
   "id": "1f1d27d7-0a7a-429d-abeb-adbfb54ba456",
   "metadata": {},
   "outputs": [
    {
     "name": "stdout",
     "output_type": "stream",
     "text": [
      "0.9585\n",
      "0.9482\n",
      "0.9760\n",
      "0.8584\n",
      "0.5933\n",
      "0.6050\n"
     ]
    }
   ],
   "source": [
    "# 6\n",
    "# Load the model\n",
    "model = torch.load('/share/data1/mkleebauer/pv_segmentation/model_PV01_PV02_PV03.pt')\n",
    "\n",
    "# Set the model to the device (CPU or GPU)\n",
    "device = torch.device(\"cuda\" if torch.cuda.is_available() else \"cpu\")\n",
    "model = model.to(device)\n",
    "\n",
    "#Run\n",
    "run_validation(model, test_path1, test_path2, test_path3, test_path4, test_path5, test_path6)"
   ]
  },
  {
   "cell_type": "code",
   "execution_count": 15,
   "id": "d0869acb-bd3b-4820-85c6-97329625010b",
   "metadata": {},
   "outputs": [
    {
     "name": "stdout",
     "output_type": "stream",
     "text": [
      "0.9590\n",
      "0.9557\n",
      "0.9717\n",
      "0.9649\n",
      "0.8735\n",
      "0.6749\n"
     ]
    }
   ],
   "source": [
    "# 7\n",
    "# Load the model\n",
    "model = torch.load('/share/data1/mkleebauer/pv_segmentation/model_PV01_PV02_PV03_PV08.pt')\n",
    "\n",
    "# Set the model to the device (CPU or GPU)\n",
    "device = torch.device(\"cuda\" if torch.cuda.is_available() else \"cpu\")\n",
    "model = model.to(device)\n",
    "\n",
    "#Run\n",
    "run_validation(model, test_path1, test_path2, test_path3, test_path4, test_path5, test_path6)"
   ]
  },
  {
   "cell_type": "code",
   "execution_count": 16,
   "id": "44f8eb87-e5b4-47cf-9d5b-a87dc3704b57",
   "metadata": {},
   "outputs": [
    {
     "name": "stdout",
     "output_type": "stream",
     "text": [
      "0.9587\n",
      "0.9587\n",
      "0.9697\n",
      "0.9644\n",
      "0.9517\n",
      "0.7555\n"
     ]
    }
   ],
   "source": [
    "# 7\n",
    "# Load the model\n",
    "model = torch.load('/share/data1/mkleebauer/pv_segmentation/model_PV01_PV02_PV03_PV08_PV16.pt')\n",
    "\n",
    "# Set the model to the device (CPU or GPU)\n",
    "device = torch.device(\"cuda\" if torch.cuda.is_available() else \"cpu\")\n",
    "model = model.to(device)\n",
    "\n",
    "#Run\n",
    "run_validation(model, test_path1, test_path2, test_path3, test_path4, test_path5, test_path6)"
   ]
  },
  {
   "cell_type": "code",
   "execution_count": 17,
   "id": "8eb43b00-261b-4570-be1b-5b4c6464ac2d",
   "metadata": {},
   "outputs": [
    {
     "name": "stdout",
     "output_type": "stream",
     "text": [
      "0.9600\n",
      "0.9565\n",
      "0.9746\n",
      "0.9634\n",
      "0.9544\n",
      "0.9071\n"
     ]
    }
   ],
   "source": [
    "# 7\n",
    "# Load the model\n",
    "model = torch.load('/share/data1/mkleebauer/pv_segmentation/model_PV01_PV02_PV03_PV08_PV16_PV32.pt')\n",
    "\n",
    "# Set the model to the device (CPU or GPU)\n",
    "device = torch.device(\"cuda\" if torch.cuda.is_available() else \"cpu\")\n",
    "model = model.to(device)\n",
    "\n",
    "#Run\n",
    "run_validation(model, test_path1, test_path2, test_path3, test_path4, test_path5, test_path6)"
   ]
  },
  {
   "cell_type": "code",
   "execution_count": 18,
   "id": "9fac48df-b3c8-43c5-ac01-4fb724b840ac",
   "metadata": {},
   "outputs": [
    {
     "name": "stdout",
     "output_type": "stream",
     "text": [
      "0.8704\n",
      "0.9611\n",
      "0.9736\n",
      "0.9660\n",
      "0.9550\n",
      "0.9023\n"
     ]
    }
   ],
   "source": [
    "# 7\n",
    "# Load the model\n",
    "model = torch.load('/share/data1/mkleebauer/pv_segmentation/model_PV02_PV03_PV08_PV16_PV32.pt')\n",
    "\n",
    "# Set the model to the device (CPU or GPU)\n",
    "device = torch.device(\"cuda\" if torch.cuda.is_available() else \"cpu\")\n",
    "model = model.to(device)\n",
    "\n",
    "#Run\n",
    "run_validation(model, test_path1, test_path2, test_path3, test_path4, test_path5, test_path6)"
   ]
  },
  {
   "cell_type": "code",
   "execution_count": 19,
   "id": "627e7d89-4577-4c91-9c4e-d5d8214acfb2",
   "metadata": {},
   "outputs": [
    {
     "name": "stdout",
     "output_type": "stream",
     "text": [
      "0.6687\n",
      "0.8007\n",
      "0.9735\n",
      "0.9660\n",
      "0.9539\n",
      "0.9122\n"
     ]
    }
   ],
   "source": [
    "# 7\n",
    "# Load the model\n",
    "model = torch.load('/share/data1/mkleebauer/pv_segmentation/model_PV03_PV08_PV16_PV32.pt')\n",
    "\n",
    "# Set the model to the device (CPU or GPU)\n",
    "device = torch.device(\"cuda\" if torch.cuda.is_available() else \"cpu\")\n",
    "model = model.to(device)\n",
    "\n",
    "#Run\n",
    "run_validation(model, test_path1, test_path2, test_path3, test_path4, test_path5, test_path6)"
   ]
  },
  {
   "cell_type": "code",
   "execution_count": 20,
   "id": "df3c8fa2-c97f-4beb-b07b-ba598a25b34b",
   "metadata": {},
   "outputs": [
    {
     "name": "stdout",
     "output_type": "stream",
     "text": [
      "0.7355\n",
      "0.7808\n",
      "0.7321\n",
      "0.9590\n",
      "0.9558\n",
      "0.8987\n"
     ]
    }
   ],
   "source": [
    "# 7\n",
    "# Load the model\n",
    "model = torch.load('/share/data1/mkleebauer/pv_segmentation/model_PV08_PV16_PV32.pt')\n",
    "\n",
    "# Set the model to the device (CPU or GPU)\n",
    "device = torch.device(\"cuda\" if torch.cuda.is_available() else \"cpu\")\n",
    "model = model.to(device)\n",
    "\n",
    "#Run\n",
    "run_validation(model, test_path1, test_path2, test_path3, test_path4, test_path5, test_path6)"
   ]
  },
  {
   "cell_type": "code",
   "execution_count": 21,
   "id": "865b1583-0475-4efd-831e-b439257a22df",
   "metadata": {},
   "outputs": [
    {
     "name": "stdout",
     "output_type": "stream",
     "text": [
      "0.3918\n",
      "0.2355\n",
      "0.2425\n",
      "0.7383\n",
      "0.9526\n",
      "0.9114\n"
     ]
    }
   ],
   "source": [
    "# 7\n",
    "# Load the model\n",
    "model = torch.load('/share/data1/mkleebauer/pv_segmentation/model_PV16_PV32.pt')\n",
    "\n",
    "# Set the model to the device (CPU or GPU)\n",
    "device = torch.device(\"cuda\" if torch.cuda.is_available() else \"cpu\")\n",
    "model = model.to(device)\n",
    "\n",
    "#Run\n",
    "run_validation(model, test_path1, test_path2, test_path3, test_path4, test_path5, test_path6)"
   ]
  },
  {
   "cell_type": "code",
   "execution_count": 22,
   "id": "f55e1ea1-b960-489e-ad26-aa7bd5667778",
   "metadata": {},
   "outputs": [
    {
     "name": "stdout",
     "output_type": "stream",
     "text": [
      "0.1734\n",
      "0.0276\n",
      "0.4032\n",
      "0.4882\n",
      "0.7760\n",
      "0.8659\n"
     ]
    }
   ],
   "source": [
    "# 7\n",
    "# Load the model\n",
    "model = torch.load('/share/data1/mkleebauer/pv_segmentation/model_PV32.pt')\n",
    "\n",
    "# Set the model to the device (CPU or GPU)\n",
    "device = torch.device(\"cuda\" if torch.cuda.is_available() else \"cpu\")\n",
    "model = model.to(device)\n",
    "\n",
    "#Run\n",
    "run_validation(model, test_path1, test_path2, test_path3, test_path4, test_path5, test_path6)"
   ]
  },
  {
   "cell_type": "code",
   "execution_count": 23,
   "id": "4f5ab3e2-9083-4f5e-8b28-6fc335536733",
   "metadata": {},
   "outputs": [
    {
     "name": "stdout",
     "output_type": "stream",
     "text": [
      "0.1734\n",
      "0.0276\n",
      "0.4032\n",
      "0.4882\n",
      "0.7760\n",
      "0.8659\n"
     ]
    }
   ],
   "source": [
    "# 7\n",
    "# Load the model\n",
    "model = torch.load('/share/data1/mkleebauer/pv_segmentation/model_PV32.pt')\n",
    "\n",
    "# Set the model to the device (CPU or GPU)\n",
    "device = torch.device(\"cuda\" if torch.cuda.is_available() else \"cpu\")\n",
    "model = model.to(device)\n",
    "\n",
    "#Run\n",
    "run_validation(model, test_path1, test_path2, test_path3, test_path4, test_path5, test_path6)"
   ]
  },
  {
   "cell_type": "code",
   "execution_count": 24,
   "id": "17503ab3-90db-4ac1-80a9-4ae7875cd2a8",
   "metadata": {},
   "outputs": [],
   "source": [
    "#test_segmentation_network(model, torch.utils.data.DataLoader(dataset_eval, batch_size=4, shuffle=True))\n"
   ]
  },
  {
   "cell_type": "code",
   "execution_count": 25,
   "id": "974630e5-341e-45ad-8e1e-36119c383e60",
   "metadata": {},
   "outputs": [],
   "source": [
    "#eval(model,dataloader_eval)"
   ]
  },
  {
   "cell_type": "code",
   "execution_count": 26,
   "id": "d71765c2-cb83-436f-b79b-2e358637eace",
   "metadata": {},
   "outputs": [],
   "source": [
    "#eval(model,dataloader_eval)"
   ]
  },
  {
   "cell_type": "code",
   "execution_count": 27,
   "id": "0022f9a3-c81d-4886-8aef-bc122448a46d",
   "metadata": {},
   "outputs": [],
   "source": [
    "#from ptflops import get_model_complexity_info\n",
    "# Get a sample input from the dataloader\n",
    "#sample_input, _ = next(iter(dataloader))\n",
    "#input_size = tuple(sample_input.shape[1:])  # Get the input size\n",
    "\n",
    "# Compute the FLOPs of your model\n",
    "#flops, params = get_model_complexity_info(model, input_size)\n",
    "#gflops = flops / 1e9  # Convert FLOPs to GFLOPs\n",
    "\n",
    "# Log the GFLOPs\n",
    "#print(f\"GFLOPs: {gflops} billion\")"
   ]
  },
  {
   "cell_type": "code",
   "execution_count": 28,
   "id": "ab9d9191-2de4-4baf-9ded-132bd0032a09",
   "metadata": {},
   "outputs": [],
   "source": [
    "# Example usage\n",
    "\n",
    "# Load the model\n",
    "#model = torch.load(save_path)\n",
    "\n",
    "# Set the model to the device (CPU or GPU)\n",
    "#device = torch.device(\"cuda\" if torch.cuda.is_available() else \"cpu\")\n",
    "#model = model.to(device)\n",
    "\n",
    "#test_segmentation_network(model, dataloader)"
   ]
  }
 ],
 "metadata": {
  "kernelspec": {
   "display_name": "torch",
   "language": "python",
   "name": "torch"
  },
  "language_info": {
   "codemirror_mode": {
    "name": "ipython",
    "version": 3
   },
   "file_extension": ".py",
   "mimetype": "text/x-python",
   "name": "python",
   "nbconvert_exporter": "python",
   "pygments_lexer": "ipython3",
   "version": "3.9.15"
  }
 },
 "nbformat": 4,
 "nbformat_minor": 5
}
